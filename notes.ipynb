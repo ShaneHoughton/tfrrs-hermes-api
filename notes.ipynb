{
 "cells": [
  {
   "cell_type": "markdown",
   "metadata": {},
   "source": [
    "As a distance runner I love to go onto the TFFRS reporting system to look up information about races, my personal best times or how other teams performed.\n",
    "\n",
    "There was a time when I was trying to score a meet for track and field just by looking at the website and thought, \"man I wish I could just have an api to get me all that information\""
   ]
  },
  {
   "cell_type": "markdown",
   "metadata": {},
   "source": [
    "This is kinda annoying(from tffrs terms and condition)\n",
    "\n",
    "    Other than as expressly allowed herein, you may not download, post, display, publish, copy, reproduce, distribute, transmit, modify, perform, broadcast, transfer, create derivative works from, sell or otherwise exploit any content, code, data or materials on or available through the TFRRS web site.\n",
    "\n",
    "So I'm just going to see if I can create a basic api with some simple end points, not for profit\n",
    "Thinking of just going by webscraping with beautiful soup."
   ]
  },
  {
   "cell_type": "code",
   "execution_count": 1,
   "metadata": {},
   "outputs": [],
   "source": [
    "# from collections.abc import MutableMapping\n",
    "from bs4 import BeautifulSoup\n",
    "import requests\n"
   ]
  },
  {
   "cell_type": "markdown",
   "metadata": {},
   "source": [
    "https://www.tfrrs.org/teams/PA_college_m_Moravian.html\n",
    "\n",
    "looking at the above link for getting a team page:\n",
    "\n",
    "    https://www.tfrrs.org/teams/STATE_college_(m/f)_Team_Name.html"
   ]
  },
  {
   "cell_type": "code",
   "execution_count": 2,
   "metadata": {},
   "outputs": [],
   "source": [
    "URL = \"https://www.tfrrs.org/teams/PA_college_m_Moravian.html\"\n",
    "page = requests.get(URL)\n",
    "\n",
    "soup = BeautifulSoup(page.content, \"html.parser\")"
   ]
  },
  {
   "cell_type": "code",
   "execution_count": 4,
   "metadata": {},
   "outputs": [],
   "source": [
    "# soup\n",
    "# would show a ton of html elements but because at the time of writing this there is no full roster I will use an older link."
   ]
  },
  {
   "cell_type": "code",
   "execution_count": 5,
   "metadata": {},
   "outputs": [],
   "source": [
    "URL = \"https://www.tfrrs.org/teams/tf/PA_college_m_Moravian.html?config_hnd=224\" #do not know what config_hnd=224 means\n",
    "page = requests.get(URL)\n",
    "\n",
    "soup = BeautifulSoup(page.content, \"html.parser\")"
   ]
  },
  {
   "cell_type": "code",
   "execution_count": 26,
   "metadata": {},
   "outputs": [],
   "source": [
    "roster_table = soup.find_all(\"table\", class_=\"tablesaw\")[0] #indexing it because it returns a list\n",
    "# gets the roster table\n"
   ]
  },
  {
   "cell_type": "code",
   "execution_count": 56,
   "metadata": {},
   "outputs": [],
   "source": [
    "athlete_rows = roster_table.find_all(\"tr\")\n",
    "# want to get athlete names and years"
   ]
  },
  {
   "cell_type": "code",
   "execution_count": 54,
   "metadata": {},
   "outputs": [
    {
     "data": {
      "text/plain": [
       "'Clemson, Brad'"
      ]
     },
     "execution_count": 54,
     "metadata": {},
     "output_type": "execute_result"
    }
   ],
   "source": [
    "name = athlete_rows[1].find('a')\n",
    "year = athlete_rows[1].find_all('td')[0].text.strip()\n",
    "year.strip()"
   ]
  },
  {
   "cell_type": "code",
   "execution_count": 58,
   "metadata": {},
   "outputs": [
    {
     "name": "stdout",
     "output_type": "stream",
     "text": [
      "Clemson, Brad SR-4\n",
      "DeRafelo, Dominic SR-4\n",
      "Duffy, Liam JR-3\n",
      "Farrell, Jake FR-1\n",
      "Fitting, Liam SO-2\n",
      "Ford, Jordan SO-2\n",
      "Frank, Casey SO-2\n",
      "Gingrich, Peter SR-4\n",
      "Glennon, Richard SR-4\n",
      "Hajel, Nathan FR-1\n",
      "Houghton, Shane SR-4\n",
      "Jancsarics, Christian JR-3\n",
      "Kleinberg, Geoffrey FR-1\n",
      "Lerch, Michael SR-4\n",
      "Mangini, Josh SO-2\n",
      "Nahf, Owen FR-1\n",
      "Petre, Paul SO-2\n",
      "Poniktera, Wyatt FR-1\n",
      "Riley, John FR-1\n",
      "Ward, Brendon SO-2\n"
     ]
    }
   ],
   "source": [
    "athlete_rows.pop(0)\n",
    "for athlete_info in athlete_rows:\n",
    "    name = athlete_info.find_all('td')[0].text.strip()\n",
    "    year = athlete_info.find_all('td')[1].text.strip()\n",
    "    print(name, year)\n"
   ]
  },
  {
   "cell_type": "markdown",
   "metadata": {},
   "source": [
    "The top could maybe be refactored into list comprehensions or to a dictionary comprehension"
   ]
  },
  {
   "cell_type": "code",
   "execution_count": 70,
   "metadata": {},
   "outputs": [],
   "source": [
    "def get_soup(url):\n",
    "    page = requests.get(url)\n",
    "    return BeautifulSoup(page.content, \"html.parser\")\n",
    "    \n",
    "def get_athletes(url):\n",
    "    html = get_soup(url)\n",
    "    roster_table = html.find_all(\"table\", class_=\"tablesaw\")[0]\n",
    "    athlete_rows = roster_table.find_all(\"tr\")\n",
    "    athlete_rows.pop(0)\n",
    "    athletes = []\n",
    "    for athlete_info in athlete_rows:\n",
    "        name = athlete_info.find_all('td')[0].text.strip()\n",
    "        year = athlete_info.find_all('td')[1].text.strip()\n",
    "        athletes.append({'name':name, 'year':year})\n",
    "    return athletes"
   ]
  },
  {
   "cell_type": "code",
   "execution_count": 60,
   "metadata": {},
   "outputs": [
    {
     "data": {
      "text/plain": [
       "[{'name': 'Aviles, Elias', 'year': 'JR-3'},\n",
       " {'name': 'Clemson, Brad', 'year': 'SR-4'},\n",
       " {'name': 'DeRafelo, Dominic', 'year': 'SR-4'},\n",
       " {'name': 'Duffy, Liam', 'year': 'JR-3'},\n",
       " {'name': 'Farrell, Jake', 'year': 'FR-1'},\n",
       " {'name': 'Fitting, Liam', 'year': 'SO-2'},\n",
       " {'name': 'Ford, Jordan', 'year': 'SO-2'},\n",
       " {'name': 'Frank, Casey', 'year': 'SO-2'},\n",
       " {'name': 'Gingrich, Peter', 'year': 'SR-4'},\n",
       " {'name': 'Glennon, Richard', 'year': 'SR-4'},\n",
       " {'name': 'Hajel, Nathan', 'year': 'FR-1'},\n",
       " {'name': 'Houghton, Shane', 'year': 'SR-4'},\n",
       " {'name': 'Jancsarics, Christian', 'year': 'JR-3'},\n",
       " {'name': 'Kleinberg, Geoffrey', 'year': 'FR-1'},\n",
       " {'name': 'Lerch, Michael', 'year': 'SR-4'},\n",
       " {'name': 'Mangini, Josh', 'year': 'SO-2'},\n",
       " {'name': 'Nahf, Owen', 'year': 'FR-1'},\n",
       " {'name': 'Petre, Paul', 'year': 'SO-2'},\n",
       " {'name': 'Poniktera, Wyatt', 'year': 'FR-1'},\n",
       " {'name': 'Riley, John', 'year': 'FR-1'},\n",
       " {'name': 'Ward, Brendon', 'year': 'SO-2'}]"
      ]
     },
     "execution_count": 60,
     "metadata": {},
     "output_type": "execute_result"
    }
   ],
   "source": [
    "get_athletes(\"https://www.tfrrs.org/teams/PA_college_m_Moravian.html\")"
   ]
  },
  {
   "cell_type": "markdown",
   "metadata": {},
   "source": [
    "try this with a different team"
   ]
  },
  {
   "cell_type": "code",
   "execution_count": 71,
   "metadata": {},
   "outputs": [
    {
     "data": {
      "text/plain": [
       "[{'name': 'Affolder, Luke', 'year': 'FR-1'},\n",
       " {'name': 'Barclay, Sebastian', 'year': 'FR-1'},\n",
       " {'name': 'Bienenfeld, Aaron', 'year': 'SR-4'},\n",
       " {'name': 'Brown, Caleb', 'year': 'FR-1'},\n",
       " {'name': 'Brown, Reed', 'year': 'SR-4'},\n",
       " {'name': 'Cook, Elliott', 'year': 'FR-1'},\n",
       " {'name': 'Erickson, Matthew', 'year': 'FR-1'},\n",
       " {'name': 'Fitzgerald, Ignatius', 'year': 'FR-1'},\n",
       " {'name': 'Folmli, Angus', 'year': 'JR-3'},\n",
       " {'name': 'Gormley, James', 'year': 'JR-3'},\n",
       " {'name': 'Hocker, Cole', 'year': 'SO-2'},\n",
       " {'name': 'Holland, EJ', 'year': 'FR-1'},\n",
       " {'name': 'Hunter, Charlie', 'year': 'JR-3'},\n",
       " {'name': 'Hussein, Abdinasir', 'year': 'FR-1'},\n",
       " {'name': 'Laverty, Sean', 'year': 'SR-4'},\n",
       " {'name': 'Mestler, Jackson', 'year': 'SR-4'},\n",
       " {'name': 'Mestler, Vincent', 'year': 'FR-1'},\n",
       " {'name': 'Neumaier, Steve', 'year': 'SR-4'},\n",
       " {'name': 'Norman, Quincy', 'year': 'SO-2'},\n",
       " {'name': 'Peralta, Luis', 'year': 'SO-2'},\n",
       " {'name': 'Perez, Diego', 'year': 'FR-1'},\n",
       " {'name': 'Reynolds, Benjamin', 'year': 'FR-1'},\n",
       " {'name': 'Simone, Christian', 'year': 'FR-1'},\n",
       " {'name': 'Stein, Cameron', 'year': 'FR-1'},\n",
       " {'name': 'Teare, Cooper', 'year': 'SR-4'},\n",
       " {'name': 'Wisner, Matt', 'year': 'SR-4'},\n",
       " {'name': 'Yearian, Jack', 'year': 'SR-4'}]"
      ]
     },
     "execution_count": 71,
     "metadata": {},
     "output_type": "execute_result"
    }
   ],
   "source": [
    "get_athletes('https://www.tfrrs.org/teams/tf/OR_college_m_Oregon.html?config_hnd=222')"
   ]
  },
  {
   "cell_type": "markdown",
   "metadata": {},
   "source": [
    "Fantastic, I have my first flask endpoint.\n",
    "Kinda I still have to know how to get the year incorporated but I might have a solution..."
   ]
  },
  {
   "cell_type": "code",
   "execution_count": 72,
   "metadata": {},
   "outputs": [],
   "source": [
    "URL = \"https://www.tfrrs.org/teams/PA_college_m_Moravian.html\"\n",
    "page = requests.get(URL)\n",
    "soup = BeautifulSoup(page.content, \"html.parser\")\n",
    "form_control = soup.find(\"select\", class_=\"form-control\")"
   ]
  },
  {
   "cell_type": "code",
   "execution_count": 73,
   "metadata": {},
   "outputs": [
    {
     "data": {
      "text/plain": [
       "<select class=\"form-control\" name=\"config_hnd\" onchange=\"seasonSelect(this, 'window', false);\">\n",
       "<option selected=\"\" value=\"266\">\n",
       "2022 Cross Country\n",
       "              </option>\n",
       "<option value=\"255\">\n",
       "2022 Outdoor\n",
       "              </option>\n",
       "<option value=\"240\">\n",
       "2021-22 Indoor\n",
       "              </option>\n",
       "<option value=\"224\">\n",
       "2021 Cross Country\n",
       "              </option>\n",
       "<option value=\"216\">\n",
       "2021 Outdoor\n",
       "              </option>\n",
       "<option value=\"205\">\n",
       "2020-21 Indoor\n",
       "              </option>\n",
       "<option value=\"197\">\n",
       "2020 Cross Country\n",
       "              </option>\n",
       "<option value=\"189\">\n",
       "2020 Outdoor\n",
       "              </option>\n",
       "<option value=\"178\">\n",
       "2019-20 NCAA Indoor\n",
       "              </option>\n",
       "<option value=\"169\">\n",
       "2019 Cross Country\n",
       "              </option>\n",
       "<option value=\"160\">\n",
       "2019 Outdoor\n",
       "              </option>\n",
       "<option value=\"148\">\n",
       "2018-19 NCAA Indoor\n",
       "              </option>\n",
       "<option value=\"140\">\n",
       "2018 Cross Country\n",
       "              </option>\n",
       "<option value=\"131\">\n",
       "2018 Outdoor\n",
       "              </option>\n",
       "<option value=\"125\">\n",
       "2017-2018 NCAA Indoor\n",
       "              </option>\n",
       "<option value=\"117\">\n",
       "2017 Cross Country\n",
       "              </option>\n",
       "<option value=\"110\">\n",
       "2017 NCAA Outdoor\n",
       "              </option>\n",
       "<option value=\"104\">\n",
       "2016-2017 NCAA Indoor\n",
       "              </option>\n",
       "<option value=\"98\">\n",
       "2016 Cross Country\n",
       "              </option>\n",
       "<option value=\"93\">\n",
       "2016 NCAA Outdoor\n",
       "              </option>\n",
       "<option value=\"85\">\n",
       "2015-2016 NCAA Indoor\n",
       "              </option>\n",
       "<option value=\"80\">\n",
       "2015 Cross Country\n",
       "              </option>\n",
       "<option value=\"74\">\n",
       "2015 Outdoor\n",
       "              </option>\n",
       "<option value=\"67\">\n",
       "2014-2015 Indoor\n",
       "              </option>\n",
       "<option value=\"63\">\n",
       "2014 Cross Country\n",
       "              </option>\n",
       "<option value=\"56\">\n",
       "2014 Outdoor\n",
       "              </option>\n",
       "<option value=\"49\">\n",
       "2013-2014 Indoor\n",
       "              </option>\n",
       "<option value=\"45\">\n",
       "2013 Cross Country\n",
       "              </option>\n",
       "<option value=\"42\">\n",
       "2013 Outdoor\n",
       "              </option>\n",
       "<option value=\"31\">\n",
       "2012-2013 Indoor\n",
       "              </option>\n",
       "<option value=\"27\">\n",
       "2012 Cross Country\n",
       "              </option>\n",
       "<option value=\"23\">\n",
       "2012 Outdoor\n",
       "              </option>\n",
       "<option value=\"19\">\n",
       "2011-12 Indoor\n",
       "              </option>\n",
       "<option value=\"15\">\n",
       "2011 Outdoor\n",
       "              </option>\n",
       "<option value=\"11\">\n",
       "2010-11 Indoor\n",
       "              </option>\n",
       "<option value=\"7\">\n",
       "2010 Outdoor\n",
       "              </option>\n",
       "<option value=\"3\">\n",
       "2009-10 Indoor\n",
       "              </option>\n",
       "</select>"
      ]
     },
     "execution_count": 73,
     "metadata": {},
     "output_type": "execute_result"
    }
   ],
   "source": [
    "form_control"
   ]
  },
  {
   "cell_type": "markdown",
   "metadata": {},
   "source": [
    "bingo..."
   ]
  },
  {
   "cell_type": "code",
   "execution_count": 74,
   "metadata": {},
   "outputs": [],
   "source": [
    "year_info = form_control.find_all(\"option\")"
   ]
  },
  {
   "cell_type": "code",
   "execution_count": 101,
   "metadata": {},
   "outputs": [
    {
     "data": {
      "text/plain": [
       "[{'': '2022 Cross Country'},\n",
       " {'255': '2022 Outdoor'},\n",
       " {'240': '2021-22 Indoor'},\n",
       " {'224': '2021 Cross Country'},\n",
       " {'216': '2021 Outdoor'},\n",
       " {'205': '2020-21 Indoor'},\n",
       " {'197': '2020 Cross Country'},\n",
       " {'189': '2020 Outdoor'},\n",
       " {'178': '2019-20 NCAA Indoor'},\n",
       " {'169': '2019 Cross Country'},\n",
       " {'160': '2019 Outdoor'},\n",
       " {'148': '2018-19 NCAA Indoor'},\n",
       " {'140': '2018 Cross Country'},\n",
       " {'131': '2018 Outdoor'},\n",
       " {'125': '2017-2018 NCAA Indoor'},\n",
       " {'117': '2017 Cross Country'},\n",
       " {'110': '2017 NCAA Outdoor'},\n",
       " {'104': '2016-2017 NCAA Indoor'},\n",
       " {'98': '2016 Cross Country'},\n",
       " {'93': '2016 NCAA Outdoor'},\n",
       " {'85': '2015-2016 NCAA Indoor'},\n",
       " {'80': '2015 Cross Country'},\n",
       " {'74': '2015 Outdoor'},\n",
       " {'67': '2014-2015 Indoor'},\n",
       " {'63': '2014 Cross Country'},\n",
       " {'56': '2014 Outdoor'},\n",
       " {'49': '2013-2014 Indoor'},\n",
       " {'45': '2013 Cross Country'},\n",
       " {'42': '2013 Outdoor'},\n",
       " {'31': '2012-2013 Indoor'},\n",
       " {'27': '2012 Cross Country'},\n",
       " {'23': '2012 Outdoor'},\n",
       " {'19': '2011-12 Indoor'},\n",
       " {'15': '2011 Outdoor'},\n",
       " {'11': '2010-11 Indoor'},\n",
       " {'7': '2010 Outdoor'},\n",
       " {'3': '2009-10 Indoor'}]"
      ]
     },
     "execution_count": 101,
     "metadata": {},
     "output_type": "execute_result"
    }
   ],
   "source": [
    "config_hnd = [{str(year).split('\"')[1]: year.text.strip()} for year in year_info] #the key is the code and the descrption is the value"
   ]
  },
  {
   "cell_type": "markdown",
   "metadata": {},
   "source": [
    "make this a function?"
   ]
  },
  {
   "cell_type": "code",
   "execution_count": null,
   "metadata": {},
   "outputs": [],
   "source": [
    "def get_year_keys(soup):\n",
    "    form_control = soup.find(\"select\", class_=\"form-control\")\n",
    "    return [{str(year).split('\"')[1]: year.text.strip()} for year in year_info] "
   ]
  },
  {
   "cell_type": "markdown",
   "metadata": {},
   "source": [
    "Made \"Hermes\", the messenger god, the api. Super clever. Right now working on making sure the class works. First end point is I want to be able to return a roster for team_name xc/tf m/w year"
   ]
  },
  {
   "cell_type": "code",
   "execution_count": 168,
   "metadata": {},
   "outputs": [],
   "source": [
    "import requests\n",
    "from bs4 import BeautifulSoup\n",
    "\n",
    "class Hermes:\n",
    "    def __init__(self):\n",
    "        self.URL = \"https://www.tfrrs.org/\"\n",
    "\n",
    "    def get_soup(self, url):\n",
    "        page = requests.get(url)\n",
    "        return BeautifulSoup(page.content, \"html.parser\")\n",
    "\n",
    "    def get_year_keys(self, state, team_name, gender): #for getting the key \"configure_hnd\" so we can get the html page from a certain year\n",
    "        soup = self.get_soup(self.URL + f'teams/{state.upper()}_college_{gender.lower()}_{team_name}.html')\n",
    "        form_control = soup.find(\"select\", class_=\"form-control\")\n",
    "        year_info = form_control.find_all(\"option\")\n",
    "        year_info.pop(0) # dictionary comprehension to get the keys and values for the years\n",
    "        return {year.text.strip().replace('NCAA','').replace(' ','_').replace('__','_') : str(year).split('\"')[1] for year in year_info}\n",
    "\n",
    "\n",
    "    def get_roster(self, state, team_name, gender, season):\n",
    "        roster_url = self.URL + f'teams/{state.upper()}_college_{gender.lower()}_{team_name}.html'\n",
    "        year_keys = self.get_year_keys(state, team_name, gender)\n",
    "        roster_url += f'?config_hnd={year_keys[season]}'\n",
    "        html = self.get_soup(roster_url)\n",
    "        roster_table = html.find_all(\"table\", class_=\"tablesaw\")[0]\n",
    "        athlete_rows = roster_table.find_all(\"tr\")\n",
    "        athlete_rows.pop(0)\n",
    "        roster = []\n",
    "        for athlete_info in athlete_rows:\n",
    "            name = athlete_info.find_all('td')[0].text.strip()\n",
    "            year = athlete_info.find_all('td')[1].text.strip()\n",
    "            roster.append({'name':name, 'year':year})\n",
    "        return roster"
   ]
  },
  {
   "cell_type": "code",
   "execution_count": 169,
   "metadata": {},
   "outputs": [],
   "source": [
    "h = Hermes()"
   ]
  },
  {
   "cell_type": "code",
   "execution_count": 170,
   "metadata": {},
   "outputs": [
    {
     "data": {
      "text/plain": [
       "{'2022_Outdoor': '254',\n",
       " '2021-22_Indoor': '238',\n",
       " '2021_Cross_Country': '222',\n",
       " '2021_Outdoor': '214',\n",
       " '2020-21_Indoor': '203',\n",
       " '2020_Cross_Country': '195',\n",
       " '2020_Outdoor': '187',\n",
       " '2019-20_Indoor': '176',\n",
       " '2019_Cross_Country': '167',\n",
       " '2019_Outdoor': '158',\n",
       " '2018-19_Indoor': '146',\n",
       " '2018_Cross_Country': '138',\n",
       " '2018_Outdoor': '129',\n",
       " '2017-2018_Indoor': '123',\n",
       " '2017_Cross_Country': '115',\n",
       " '2017_Outdoor': '108',\n",
       " '2016-2017_Indoor': '102',\n",
       " '2016_Cross_Country': '96',\n",
       " '2016_Outdoor': '91',\n",
       " '2015-2016_Indoor': '83',\n",
       " '2015_Cross_Country': '78',\n",
       " '2015_Outdoor': '72',\n",
       " '2014-2015_Indoor': '65',\n",
       " '2014_Cross_Country': '60',\n",
       " '2014_Outdoor': '54',\n",
       " '2013-2014_Indoor': '47',\n",
       " '2013_Cross_Country': '43',\n",
       " '2013_Outdoor': '35',\n",
       " '2012-2013_Indoor': '29',\n",
       " '2012_Cross_Country': '25',\n",
       " '2012_Outdoor': '21',\n",
       " '2011-12_Indoor': '17',\n",
       " '2011_Outdoor': '13',\n",
       " '2010-11_Indoor': '9',\n",
       " '2010_Outdoor': '5',\n",
       " '2009-10_Indoor': '1'}"
      ]
     },
     "execution_count": 170,
     "metadata": {},
     "output_type": "execute_result"
    }
   ],
   "source": [
    "h.get_year_keys(state='OR', team_name='Oregon', gender='m')"
   ]
  },
  {
   "cell_type": "code",
   "execution_count": 172,
   "metadata": {},
   "outputs": [
    {
     "data": {
      "text/plain": [
       "[{'name': 'Aviles, Elias', 'year': 'JR-3'},\n",
       " {'name': 'Clemson, Brad', 'year': 'SR-4'},\n",
       " {'name': 'DeRafelo, Dominic', 'year': 'SR-4'},\n",
       " {'name': 'Duffy, Liam', 'year': 'JR-3'},\n",
       " {'name': 'Farrell, Jake', 'year': 'FR-1'},\n",
       " {'name': 'Fitting, Liam', 'year': 'SO-2'},\n",
       " {'name': 'Ford, Jordan', 'year': 'SO-2'},\n",
       " {'name': 'Frank, Casey', 'year': 'SO-2'},\n",
       " {'name': 'Gingrich, Peter', 'year': 'SR-4'},\n",
       " {'name': 'Glennon, Richard', 'year': 'SR-4'},\n",
       " {'name': 'Hajel, Nathan', 'year': 'FR-1'},\n",
       " {'name': 'Houghton, Shane', 'year': 'SR-4'},\n",
       " {'name': 'Jancsarics, Christian', 'year': 'JR-3'},\n",
       " {'name': 'Kleinberg, Geoffrey', 'year': 'FR-1'},\n",
       " {'name': 'Lerch, Michael', 'year': 'SR-4'},\n",
       " {'name': 'Mangini, Josh', 'year': 'SO-2'},\n",
       " {'name': 'Nahf, Owen', 'year': 'FR-1'},\n",
       " {'name': 'Petre, Paul', 'year': 'SO-2'},\n",
       " {'name': 'Poniktera, Wyatt', 'year': 'FR-1'},\n",
       " {'name': 'Riley, John', 'year': 'FR-1'},\n",
       " {'name': 'Ward, Brendon', 'year': 'SO-2'}]"
      ]
     },
     "execution_count": 172,
     "metadata": {},
     "output_type": "execute_result"
    }
   ],
   "source": [
    "h.get_roster('PA', 'Moravian', 'm', '2021_Cross_Country')"
   ]
  },
  {
   "cell_type": "markdown",
   "metadata": {},
   "source": [
    "a good start to our first endpoint\n",
    "other endpoints should be:\n",
    "    \n",
    "    get an athletes pr's\n",
    "    get an athletes races\n",
    "    get a conference's teams\n",
    "    get a teams's profile(conference, region(s), division, location)\n",
    "    get performance lists"
   ]
  },
  {
   "cell_type": "code",
   "execution_count": 195,
   "metadata": {},
   "outputs": [
    {
     "name": "stdout",
     "output_type": "stream",
     "text": [
      "100\n",
      "200\n",
      "400\n",
      "800\n",
      "1500\n",
      "5000\n",
      "10,000\n",
      "110H\n",
      "400H\n",
      "3000S\n",
      "4x100\n",
      "4x400\n",
      "4x800\n",
      "PV\n",
      "LJ\n",
      "SP\n",
      "DT\n",
      "HT\n",
      "JT\n"
     ]
    }
   ],
   "source": [
    "\n",
    "\n",
    "page = requests.get('https://www.tfrrs.org/teams/tf/PA_college_m_Moravian.html')\n",
    "html = BeautifulSoup(page.content, \"html.parser\")\n",
    "roster_table = html.find_all(\"table\", class_=\"tablesaw\")[0]\n",
    "athlete_rows = roster_table.find_all(\"tr\")\n",
    "athlete_rows.pop(0)\n",
    "# athlete_rows\n",
    "# roster = []\n",
    "name = 'Gray_Trevor'\n",
    "for athlete_info in athlete_rows:\n",
    "    found = athlete_info.find_all('td')[0].text.strip().replace(', ','_')\n",
    "    print(found)\n",
    "    if name == found:\n",
    "        print(f'hello {name}')\n",
    "        print(athlete_info.find_all('a')[0]['href'])\n",
    "#     name = athlete_info.find_all('td')[0].text.strip()\n",
    "#     year = athlete_info.find_all('td')[1].text.strip()\n",
    "#     roster.append({'name':name, 'year':year})\n"
   ]
  },
  {
   "cell_type": "markdown",
   "metadata": {},
   "source": [
    "gotta refactor the way we get the roster table. We got the top marks for a season of track instead of the roster table"
   ]
  },
  {
   "cell_type": "code",
   "execution_count": 196,
   "metadata": {},
   "outputs": [],
   "source": [
    "import requests\n",
    "from bs4 import BeautifulSoup\n",
    "\n",
    "class Hermes:\n",
    "    def __init__(self):\n",
    "        self.URL = \"https://www.tfrrs.org/\"\n",
    "\n",
    "    def get_soup(self, url):\n",
    "        page = requests.get(url)\n",
    "        return BeautifulSoup(page.content, \"html.parser\")\n",
    "\n",
    "    def get_year_keys(self, state, team_name, gender): #for getting the key \"configure_hnd\" so we can get the html page from a certain year\n",
    "        soup = self.get_soup(self.URL + f'teams/{state.upper()}_college_{gender.lower()}_{team_name}.html')\n",
    "        form_control = soup.find(\"select\", class_=\"form-control\")\n",
    "        year_info = form_control.find_all(\"option\")\n",
    "        year_info.pop(0) # dictionary comprehension to get the keys and values for the years\n",
    "        return {year.text.strip().replace('NCAA','').replace(' ','_').replace('__','_') : str(year).split('\"')[1] for year in year_info}\n",
    "\n",
    "\n",
    "    def get_roster(self, state, team_name, gender, season):\n",
    "        page_url = self.URL + f'teams/{state.upper()}_college_{gender.lower()}_{team_name}.html'\n",
    "        year_keys = self.get_year_keys(state, team_name, gender)\n",
    "        page_url += f'?config_hnd={year_keys[season]}'\n",
    "        html = self.get_soup(page_url)\n",
    "        roster_rows = self.get_roster_table(page_url)\n",
    "        roster = []\n",
    "        for athlete_info in athlete_rows:\n",
    "            name = athlete_info.find_all('td')[0].text.strip()\n",
    "            year = athlete_info.find_all('td')[1].text.strip()\n",
    "            roster.append({'name':name, 'year':year})\n",
    "        return roster\n",
    "\n",
    "        \n",
    "\n",
    "    def get_roster_table(self, page_url):\n",
    "        html = self.get_soup(page_url)\n",
    "        html_tables = html.find_all(\"table\", class_=\"tablesaw\")\n",
    "        for table in html_tables:\n",
    "            if table.find('th').text.strip() == 'NAME':\n",
    "                roster_table = table\n",
    "        roster_rows = roster_table.find_all(\"tr\")\n",
    "        roster_rows.pop(0)\n",
    "        return roster_rows\n",
    "\n"
   ]
  },
  {
   "cell_type": "code",
   "execution_count": 202,
   "metadata": {},
   "outputs": [
    {
     "name": "stdout",
     "output_type": "stream",
     "text": [
      "EVENT\n",
      "                \n",
      "NAME\n",
      "                \n",
      "DATE\n",
      "                \n"
     ]
    }
   ],
   "source": [
    "page = requests.get('https://www.tfrrs.org/teams/tf/PA_college_m_Moravian.html')\n",
    "html = BeautifulSoup(page.content, \"html.parser\")\n",
    "tables= html.find_all(\"table\", class_=\"tablesaw\") # was roster table\n",
    "for table in tables:\n",
    "    print(table.find('th').text)"
   ]
  },
  {
   "cell_type": "code",
   "execution_count": 209,
   "metadata": {},
   "outputs": [
    {
     "name": "stdout",
     "output_type": "stream",
     "text": [
      "hello Gray_Trevor\n"
     ]
    }
   ],
   "source": [
    "page = requests.get('https://www.tfrrs.org/teams/tf/PA_college_m_Moravian.html')\n",
    "html = BeautifulSoup(page.content, \"html.parser\")\n",
    "html_tables = html.find_all(\"table\", class_=\"tablesaw\")\n",
    "\n",
    "for table in html_tables:\n",
    "    if table.find('th').text.strip() == 'NAME':\n",
    "        roster_table = table\n",
    "athlete_rows = roster_table.find_all(\"tr\")\n",
    "athlete_rows.pop(0)\n",
    "roster = []\n",
    "\n",
    "name = 'Gray_Trevor'\n",
    "for athlete_info in athlete_rows:\n",
    "    if name == athlete_info.find_all('td')[0].text.strip().replace(', ','_'):\n",
    "        print(f'hello {name}')"
   ]
  },
  {
   "cell_type": "code",
   "execution_count": 213,
   "metadata": {},
   "outputs": [
    {
     "name": "stdout",
     "output_type": "stream",
     "text": [
      "hello Gray_Trevor\n",
      "/athletes/7983217/Moravian/Trevor_Gray.html\n"
     ]
    }
   ],
   "source": [
    "def get_roster_table(): # would be self and url for class method\n",
    "    page = requests.get('https://www.tfrrs.org/teams/tf/PA_college_m_Moravian.html')\n",
    "    html = BeautifulSoup(page.content, \"html.parser\")\n",
    "    html_tables = html.find_all(\"table\", class_=\"tablesaw\")\n",
    "    for table in html_tables:\n",
    "        if table.find('th').text.strip() == 'NAME':\n",
    "            roster_table = table\n",
    "    roster_rows = roster_table.find_all(\"tr\")\n",
    "    roster_rows.pop(0)\n",
    "    return roster_rows\n",
    "rows = get_roster_table()\n",
    "\n",
    "name = 'Gray_Trevor'\n",
    "for athlete_info in rows:\n",
    "    if name == athlete_info.find_all('td')[0].text.strip().replace(', ','_'):\n",
    "        print(f'hello {name}')\n",
    "        print(athlete_info.find_all('a')[0]['href'])"
   ]
  },
  {
   "cell_type": "code",
   "execution_count": 280,
   "metadata": {},
   "outputs": [],
   "source": [
    "import requests, re\n",
    "from bs4 import BeautifulSoup\n",
    "\n",
    "class Hermes:\n",
    "    def __init__(self):\n",
    "        self.URL = \"https://www.tfrrs.org/\"\n",
    "    \n",
    "\n",
    "    def get_roster(self, state, team_name, gender, season):\n",
    "        team_html = self.get_team_html(state, team_name, gender, season)\n",
    "        roster_rows = self.get_roster_table(team_html)\n",
    "        roster = []\n",
    "        for athlete_info in roster_rows:\n",
    "            name = athlete_info.find_all('td')[0].text.strip()\n",
    "            year = athlete_info.find_all('td')[1].text.strip()\n",
    "            roster.append({'name':name, 'year':year})\n",
    "        return roster\n",
    "    \n",
    "    def get_athlete_bests(self, name, state, team_name, gender, season):\n",
    "        athlete_html = self.get_athlete_html(name, state, team_name, gender, season)\n",
    "        table_bests = athlete_html.find(\"table\", class_=\"table bests\")\n",
    "        table_rows = table_bests.find_all(\"td\")\n",
    "        bests = {}\n",
    "        for i in range(0,len(rows), 2):\n",
    "            bests[self.remove_spaces(rows[i].text)] = self.remove_spaces(rows[i+1].text)\n",
    "        print(bests)\n",
    "\n",
    "\n",
    "    def get_athlete_html(self, name, state, team_name, gender, season):\n",
    "        team_html = self.get_team_html(state, team_name, gender, season)\n",
    "        roster_rows = self.get_roster_table(team_html)\n",
    "        for athlete_info in roster_rows: # does a look up of the athlete by name\n",
    "            if name == athlete_info.find_all('td')[0].text.strip().replace(', ','_'):\n",
    "                athlete_url = self.URL + athlete_info.find_all('a')[0]['href']\n",
    "                break\n",
    "        return self.get_soup(athlete_url)\n",
    "\n",
    "    def get_soup(self, url): # gets html with beautiful soup\n",
    "        page = requests.get(url)\n",
    "        return BeautifulSoup(page.content, \"html.parser\")\n",
    "\n",
    "    def get_year_keys(self, state, team_name, gender): # for getting the key \"configure_hnd\" so we can get the html page from a certain year\n",
    "        soup = self.get_soup(self.URL + f'teams/{state.upper()}_college_{gender.lower()}_{team_name}.html')\n",
    "        form_control = soup.find(\"select\", class_=\"form-control\")\n",
    "        year_info = form_control.find_all(\"option\")\n",
    "        year_info.pop(0) # dictionary comprehension to get the keys and values for the years\n",
    "        return {year.text.strip().replace('NCAA','').replace(' ','_').replace('__','_') : str(year).split('\"')[1] for year in year_info}\n",
    "        \n",
    "    def get_team_html(self, state, team_name, gender, season):\n",
    "        year_keys = self.get_year_keys(state, team_name, gender)\n",
    "        page_url = self.URL + f'teams/{state.upper()}_college_{gender.lower()}_{team_name}.html'\n",
    "        page_url += f'?config_hnd={year_keys[season]}'\n",
    "        return self.get_soup(page_url)\n",
    "\n",
    "    def get_roster_table(self, html):\n",
    "        html_tables = html.find_all(\"table\", class_=\"tablesaw\")\n",
    "        for table in html_tables: # there are multiple tables on some pages especially with track teams\n",
    "            if table.find('th').text.strip() == 'NAME': # athlete table has a header with NAME\n",
    "                roster_table = table\n",
    "        roster_rows = roster_table.find_all(\"tr\")\n",
    "        roster_rows.pop(0) # pop the first item in the list because it is just NAME and YEAR\n",
    "        return roster_rows\n",
    "\n",
    "     \n",
    "    def remove_spaces(self, string):\n",
    "        pattern = re.compile(r'\\s+')\n",
    "        return re.sub(pattern, '', string)\n",
    "\n"
   ]
  },
  {
   "cell_type": "code",
   "execution_count": 252,
   "metadata": {},
   "outputs": [],
   "source": [
    "h = Hermes()"
   ]
  },
  {
   "cell_type": "code",
   "execution_count": 270,
   "metadata": {},
   "outputs": [],
   "source": [
    "import re\n",
    " \n",
    "def remove_spaces(string):\n",
    "    pattern = re.compile(r'\\s+')\n",
    "    return re.sub(pattern, '', string)"
   ]
  },
  {
   "cell_type": "code",
   "execution_count": 278,
   "metadata": {},
   "outputs": [
    {
     "name": "stdout",
     "output_type": "stream",
     "text": [
      "{'800': '2:06.72', '10,000': '34:35.67', '1500': '4:17.47', '3000S': '10:02.61', 'MILE': '4:42.71', '5K(XC)': '17:56.0', '3000': '9:37.20', '6K(XC)': '20:44.5', '5000': '16:33.66', '8K(XC)': '27:12.1'}\n"
     ]
    }
   ],
   "source": [
    "athlete = h.get_athlete_html('Lerch_Michael', 'PA', 'Moravian', 'm', '2021_Cross_Country')\n",
    "table_bests = athlete.find(\"table\", class_=\"table bests\")\n",
    "table_rows = table_bests.find_all(\"td\")\n",
    "# for row in rows:\n",
    "#     entry = row.text.replace(\"\\n\",\"\").strip(\" \")\n",
    "#     print(remove_spaces(row.text))\n",
    "#     print(f'@{entry}@')\n",
    "bests = {}\n",
    "for i in range(0,len(rows), 2):\n",
    "    bests[remove_spaces(rows[i].text)] = remove_spaces(rows[i+1].text)\n",
    "print(bests)"
   ]
  },
  {
   "cell_type": "code",
   "execution_count": null,
   "metadata": {},
   "outputs": [],
   "source": [
    "def get_athlete_bests(athlete_html):\n",
    "    table_bests = athlete_html.find(\"table\", class_=\"table bests\")\n",
    "    table_rows = table_bests.find_all(\"td\")\n",
    "    bests = {}\n",
    "    for i in range(0,len(rows), 2):\n",
    "        bests[remove_spaces(rows[i].text)] = remove_spaces(rows[i+1].text)\n",
    "    print(bests)"
   ]
  },
  {
   "cell_type": "code",
   "execution_count": 281,
   "metadata": {},
   "outputs": [],
   "source": [
    "h = Hermes()"
   ]
  },
  {
   "cell_type": "code",
   "execution_count": 282,
   "metadata": {},
   "outputs": [
    {
     "name": "stdout",
     "output_type": "stream",
     "text": [
      "{'800': '2:06.72', '10,000': '34:35.67', '1500': '4:17.47', '3000S': '10:02.61', 'MILE': '4:42.71', '5K(XC)': '17:56.0', '3000': '9:37.20', '6K(XC)': '20:44.5', '5000': '16:33.66', '8K(XC)': '27:12.1'}\n"
     ]
    }
   ],
   "source": [
    "h.get_athlete_bests('Lerch_Michael', 'PA', 'Moravian', 'm', '2021_Cross_Country')"
   ]
  },
  {
   "cell_type": "code",
   "execution_count": null,
   "metadata": {},
   "outputs": [],
   "source": []
  }
 ],
 "metadata": {
  "kernelspec": {
   "display_name": "Python 3.10.2 ('env': venv)",
   "language": "python",
   "name": "python3"
  },
  "language_info": {
   "codemirror_mode": {
    "name": "ipython",
    "version": 3
   },
   "file_extension": ".py",
   "mimetype": "text/x-python",
   "name": "python",
   "nbconvert_exporter": "python",
   "pygments_lexer": "ipython3",
   "version": "3.10.2"
  },
  "orig_nbformat": 4,
  "vscode": {
   "interpreter": {
    "hash": "72178ffac913d3c015f5f5a3069c4fdd5bf5a8d1614067a7ed7ac038311f7fdd"
   }
  }
 },
 "nbformat": 4,
 "nbformat_minor": 2
}
